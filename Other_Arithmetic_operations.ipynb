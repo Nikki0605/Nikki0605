{
  "nbformat": 4,
  "nbformat_minor": 0,
  "metadata": {
    "colab": {
      "provenance": [],
      "toc_visible": true,
      "authorship_tag": "ABX9TyNC+er8T3wPNrynbn2DC14j",
      "include_colab_link": true
    },
    "kernelspec": {
      "name": "python3",
      "display_name": "Python 3"
    },
    "language_info": {
      "name": "python"
    }
  },
  "cells": [
    {
      "cell_type": "markdown",
      "metadata": {
        "id": "view-in-github",
        "colab_type": "text"
      },
      "source": [
        "<a href=\"https://colab.research.google.com/github/Nikki0605/Nikki0605/blob/main/Other_Arithmetic_operations.ipynb\" target=\"_parent\"><img src=\"https://colab.research.google.com/assets/colab-badge.svg\" alt=\"Open In Colab\"/></a>"
      ]
    },
    {
      "cell_type": "code",
      "execution_count": 24,
      "metadata": {
        "colab": {
          "base_uri": "https://localhost:8080/"
        },
        "id": "1Ud-eH6XMfFL",
        "outputId": "f97112ca-3479-443d-fa03-48e02f07c376"
      },
      "outputs": [
        {
          "output_type": "stream",
          "name": "stdout",
          "text": [
            "Mounted at /content/drive\n"
          ]
        }
      ],
      "source": [
        "from google.colab import drive\n",
        "drive.mount('/content/drive')\n"
      ]
    },
    {
      "cell_type": "markdown",
      "source": [
        "# Increment assignment"
      ],
      "metadata": {
        "id": "iV0oIxmQMgoZ"
      }
    },
    {
      "cell_type": "code",
      "source": [
        "a = 4\n",
        "a += 2\n",
        "print(a)"
      ],
      "metadata": {
        "colab": {
          "base_uri": "https://localhost:8080/"
        },
        "id": "aLaq1h53Mo3C",
        "outputId": "131d0d9a-0ebd-4ca8-95ce-d6ca6928fa00"
      },
      "execution_count": 1,
      "outputs": [
        {
          "output_type": "stream",
          "name": "stdout",
          "text": [
            "6\n"
          ]
        }
      ]
    },
    {
      "cell_type": "code",
      "source": [],
      "metadata": {
        "id": "JKU5UbDDM2sh"
      },
      "execution_count": null,
      "outputs": []
    },
    {
      "cell_type": "markdown",
      "source": [
        "# Decrement Assignment"
      ],
      "metadata": {
        "id": "S6txCCp0NCLs"
      }
    },
    {
      "cell_type": "code",
      "source": [
        "a = 4\n",
        "a -= 3\n",
        "print(a)"
      ],
      "metadata": {
        "colab": {
          "base_uri": "https://localhost:8080/"
        },
        "id": "rQ1-RBnYNEif",
        "outputId": "894787c2-80b3-45ac-ec38-d2c2c71fa33c"
      },
      "execution_count": 3,
      "outputs": [
        {
          "output_type": "stream",
          "name": "stdout",
          "text": [
            "1\n"
          ]
        }
      ]
    },
    {
      "cell_type": "code",
      "source": [],
      "metadata": {
        "id": "TKTpafWeNRrX"
      },
      "execution_count": null,
      "outputs": []
    },
    {
      "cell_type": "markdown",
      "source": [
        "# Multiplication Assignment"
      ],
      "metadata": {
        "id": "YLizRIdBOUdG"
      }
    },
    {
      "cell_type": "code",
      "source": [
        "a = 3\n",
        "a *= 4\n",
        "print(a)"
      ],
      "metadata": {
        "colab": {
          "base_uri": "https://localhost:8080/"
        },
        "id": "c60CFYEMOWqh",
        "outputId": "1d84ed80-0dad-4c81-f89f-8c080ba797de"
      },
      "execution_count": 4,
      "outputs": [
        {
          "output_type": "stream",
          "name": "stdout",
          "text": [
            "12\n"
          ]
        }
      ]
    },
    {
      "cell_type": "code",
      "source": [],
      "metadata": {
        "id": "4tKhACQdOawM"
      },
      "execution_count": null,
      "outputs": []
    },
    {
      "cell_type": "markdown",
      "source": [
        "#Division Assignment"
      ],
      "metadata": {
        "id": "nSAtddPMOcKA"
      }
    },
    {
      "cell_type": "code",
      "source": [
        "a = 4\n",
        "a /= 2\n",
        "print(a)"
      ],
      "metadata": {
        "colab": {
          "base_uri": "https://localhost:8080/"
        },
        "id": "XBn7l4xIOeFZ",
        "outputId": "b155f376-0ec0-4bd0-cb03-908c4d1ebef3"
      },
      "execution_count": 5,
      "outputs": [
        {
          "output_type": "stream",
          "name": "stdout",
          "text": [
            "2.0\n"
          ]
        }
      ]
    },
    {
      "cell_type": "code",
      "source": [],
      "metadata": {
        "id": "V0HT8RYVPJL8"
      },
      "execution_count": null,
      "outputs": []
    },
    {
      "cell_type": "markdown",
      "source": [
        "# floor division assignment"
      ],
      "metadata": {
        "id": "dxShvwbIQCBE"
      }
    },
    {
      "cell_type": "code",
      "source": [
        "a = 4\n",
        "a //= 2\n",
        "print(a)"
      ],
      "metadata": {
        "colab": {
          "base_uri": "https://localhost:8080/"
        },
        "id": "rQMvKMJVQEYc",
        "outputId": "046c3a73-44df-4bf5-c0a3-099b41fe36f0"
      },
      "execution_count": 6,
      "outputs": [
        {
          "output_type": "stream",
          "name": "stdout",
          "text": [
            "2\n"
          ]
        }
      ]
    },
    {
      "cell_type": "code",
      "source": [],
      "metadata": {
        "id": "mF_NJX0aQG9S"
      },
      "execution_count": null,
      "outputs": []
    },
    {
      "cell_type": "markdown",
      "source": [
        "# Modulus assignment"
      ],
      "metadata": {
        "id": "daGEou5CQJCG"
      }
    },
    {
      "cell_type": "code",
      "source": [
        "a = 6\n",
        "a %= 2\n",
        "print(a)"
      ],
      "metadata": {
        "colab": {
          "base_uri": "https://localhost:8080/"
        },
        "id": "YK1syXfUQKpB",
        "outputId": "e9807c48-7405-423c-f1c2-106cd4b4ace4"
      },
      "execution_count": 8,
      "outputs": [
        {
          "output_type": "stream",
          "name": "stdout",
          "text": [
            "0\n"
          ]
        }
      ]
    },
    {
      "cell_type": "code",
      "source": [],
      "metadata": {
        "id": "cB2dGKqUQOtq"
      },
      "execution_count": null,
      "outputs": []
    },
    {
      "cell_type": "markdown",
      "source": [
        "# Exponential assignment"
      ],
      "metadata": {
        "id": "Kmtrg01kQRnb"
      }
    },
    {
      "cell_type": "code",
      "source": [
        "a = 4\n",
        "a **= 2\n",
        "print(a)"
      ],
      "metadata": {
        "colab": {
          "base_uri": "https://localhost:8080/"
        },
        "id": "6BqKfzliQUJd",
        "outputId": "adb408f5-c8c6-455d-eae5-76d19ac7027d"
      },
      "execution_count": 9,
      "outputs": [
        {
          "output_type": "stream",
          "name": "stdout",
          "text": [
            "16\n"
          ]
        }
      ]
    },
    {
      "cell_type": "code",
      "source": [],
      "metadata": {
        "id": "gmttiD19ROiB"
      },
      "execution_count": null,
      "outputs": []
    },
    {
      "cell_type": "markdown",
      "source": [
        "# other arthmetic operations are:-\n",
        "\n",
        "# Absolute value"
      ],
      "metadata": {
        "id": "xmlep6MGSUoS"
      }
    },
    {
      "cell_type": "code",
      "source": [
        "a = -3.45\n",
        "z = abs(a)\n",
        "print(z)"
      ],
      "metadata": {
        "colab": {
          "base_uri": "https://localhost:8080/"
        },
        "id": "D55Ee28HTFU-",
        "outputId": "c794d401-e6f5-494a-b237-50154bbeedd6"
      },
      "execution_count": 14,
      "outputs": [
        {
          "output_type": "stream",
          "name": "stdout",
          "text": [
            "3.45\n"
          ]
        }
      ]
    },
    {
      "cell_type": "code",
      "source": [],
      "metadata": {
        "id": "JZ4laTBVU7Ye"
      },
      "execution_count": null,
      "outputs": []
    },
    {
      "cell_type": "markdown",
      "source": [
        "# round operator"
      ],
      "metadata": {
        "id": "-ESdTONRVHdQ"
      }
    },
    {
      "cell_type": "code",
      "source": [
        "b = -22.56134\n",
        "z = round(b,4)\n",
        "print(z)"
      ],
      "metadata": {
        "colab": {
          "base_uri": "https://localhost:8080/"
        },
        "id": "rV9QGMlMVJby",
        "outputId": "daa74742-eff7-4a6a-f6f2-ecfdcaa35610"
      },
      "execution_count": 21,
      "outputs": [
        {
          "output_type": "stream",
          "name": "stdout",
          "text": [
            "-22.5613\n"
          ]
        }
      ]
    },
    {
      "cell_type": "code",
      "source": [],
      "metadata": {
        "id": "EnzWnXqgVTJ-"
      },
      "execution_count": null,
      "outputs": []
    },
    {
      "cell_type": "markdown",
      "source": [
        "# Power operator"
      ],
      "metadata": {
        "id": "lNYuvoLtZEd9"
      }
    },
    {
      "cell_type": "code",
      "source": [
        "a = pow(2,3)\n",
        "print(a)"
      ],
      "metadata": {
        "colab": {
          "base_uri": "https://localhost:8080/"
        },
        "id": "rA7kkK4LZFvj",
        "outputId": "b32181ba-d4b1-4180-bc7c-9a6b81a5295f"
      },
      "execution_count": 22,
      "outputs": [
        {
          "output_type": "stream",
          "name": "stdout",
          "text": [
            "8\n"
          ]
        }
      ]
    },
    {
      "cell_type": "code",
      "source": [
        "b = pow(9,3)\n",
        "print('the power of 9 cube is:',b)"
      ],
      "metadata": {
        "colab": {
          "base_uri": "https://localhost:8080/"
        },
        "id": "t8b2x0yjZXaZ",
        "outputId": "bf4dac7b-1a20-4b04-fb30-924acd3544e2"
      },
      "execution_count": 23,
      "outputs": [
        {
          "output_type": "stream",
          "name": "stdout",
          "text": [
            "the power of 9 cube is: 729\n"
          ]
        }
      ]
    },
    {
      "cell_type": "code",
      "source": [],
      "metadata": {
        "id": "gqbnITV1Zx6o"
      },
      "execution_count": null,
      "outputs": []
    }
  ]
}