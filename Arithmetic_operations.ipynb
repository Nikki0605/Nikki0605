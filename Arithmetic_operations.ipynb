{
  "nbformat": 4,
  "nbformat_minor": 0,
  "metadata": {
    "colab": {
      "provenance": [],
      "authorship_tag": "ABX9TyOKClVgKyx3Jh3F5j/eemXk",
      "include_colab_link": true
    },
    "kernelspec": {
      "name": "python3",
      "display_name": "Python 3"
    },
    "language_info": {
      "name": "python"
    }
  },
  "cells": [
    {
      "cell_type": "markdown",
      "metadata": {
        "id": "view-in-github",
        "colab_type": "text"
      },
      "source": [
        "<a href=\"https://colab.research.google.com/github/Nikki0605/Nikki0605/blob/main/Arithmetic_operations.ipynb\" target=\"_parent\"><img src=\"https://colab.research.google.com/assets/colab-badge.svg\" alt=\"Open In Colab\"/></a>"
      ]
    },
    {
      "cell_type": "code",
      "execution_count": null,
      "metadata": {
        "id": "nGokk6ML_qiI"
      },
      "outputs": [],
      "source": []
    },
    {
      "cell_type": "markdown",
      "source": [
        "Arithmetic operators"
      ],
      "metadata": {
        "id": "x8XPlmZ3_uC1"
      }
    },
    {
      "cell_type": "code",
      "source": [],
      "metadata": {
        "id": "guAKCfqd_wBm"
      },
      "execution_count": null,
      "outputs": []
    },
    {
      "cell_type": "markdown",
      "source": [
        "# Additions"
      ],
      "metadata": {
        "id": "TQJdzzro_1UV"
      }
    },
    {
      "cell_type": "code",
      "source": [
        "x = 4\n",
        "y = 6\n",
        "p = x + y\n",
        "print('the result is:',p)"
      ],
      "metadata": {
        "colab": {
          "base_uri": "https://localhost:8080/"
        },
        "id": "qrfatAUE_3L5",
        "outputId": "a23d404b-8b2c-433d-e182-2f8b1c0b17a3"
      },
      "execution_count": 2,
      "outputs": [
        {
          "output_type": "stream",
          "name": "stdout",
          "text": [
            "the result is: 10\n"
          ]
        }
      ]
    },
    {
      "cell_type": "code",
      "source": [],
      "metadata": {
        "id": "MI78N32q_9rk"
      },
      "execution_count": null,
      "outputs": []
    },
    {
      "cell_type": "markdown",
      "source": [
        "# Subtractions"
      ],
      "metadata": {
        "id": "ax5ghrF4ANlL"
      }
    },
    {
      "cell_type": "code",
      "source": [
        "a = 19\n",
        "b = 3\n",
        "l = a - b\n",
        "print('the value is:',l)"
      ],
      "metadata": {
        "colab": {
          "base_uri": "https://localhost:8080/"
        },
        "id": "bvwbN1TyAPSa",
        "outputId": "8f1c0856-6047-4231-da38-5abe6a7f70c4"
      },
      "execution_count": 3,
      "outputs": [
        {
          "output_type": "stream",
          "name": "stdout",
          "text": [
            "the value is: 16\n"
          ]
        }
      ]
    },
    {
      "cell_type": "code",
      "source": [],
      "metadata": {
        "id": "rzqCN3x0AZDh"
      },
      "execution_count": null,
      "outputs": []
    },
    {
      "cell_type": "markdown",
      "source": [
        "# Multiplications"
      ],
      "metadata": {
        "id": "vurIrOJYFIJr"
      }
    },
    {
      "cell_type": "code",
      "source": [
        "a = 3\n",
        "b = 5\n",
        "z = a * b\n",
        "print('the output is:',z)"
      ],
      "metadata": {
        "colab": {
          "base_uri": "https://localhost:8080/"
        },
        "id": "KEGyXtgrFJ4W",
        "outputId": "b3a8b52c-6d9d-4c4f-9011-4e8b77b3ba3a"
      },
      "execution_count": 4,
      "outputs": [
        {
          "output_type": "stream",
          "name": "stdout",
          "text": [
            "the output is: 15\n"
          ]
        }
      ]
    },
    {
      "cell_type": "code",
      "source": [],
      "metadata": {
        "id": "8CegXgHzFSaI"
      },
      "execution_count": 5,
      "outputs": []
    },
    {
      "cell_type": "markdown",
      "source": [
        "# Division"
      ],
      "metadata": {
        "id": "4MA1NkJmF0Uq"
      }
    },
    {
      "cell_type": "markdown",
      "source": [],
      "metadata": {
        "id": "6MlEUbm5Fy0m"
      }
    },
    {
      "cell_type": "code",
      "source": [
        "a = 50\n",
        "b = 2\n",
        "z = a / b\n",
        "print('the output is:',z)"
      ],
      "metadata": {
        "colab": {
          "base_uri": "https://localhost:8080/"
        },
        "id": "_NJsPOG8Fxhn",
        "outputId": "621584cd-6c1b-43cb-c2fc-05ef7ffc3ee8"
      },
      "execution_count": 6,
      "outputs": [
        {
          "output_type": "stream",
          "name": "stdout",
          "text": [
            "the output is: 25.0\n"
          ]
        }
      ]
    },
    {
      "cell_type": "code",
      "source": [
        "a = 50\n",
        "b = 2\n",
        "z = a // b\n",
        "print('the output is:',z)"
      ],
      "metadata": {
        "colab": {
          "base_uri": "https://localhost:8080/"
        },
        "id": "KU28z_kPF-yO",
        "outputId": "03007a7d-ceae-486d-c584-76e9c4cad3fc"
      },
      "execution_count": 7,
      "outputs": [
        {
          "output_type": "stream",
          "name": "stdout",
          "text": [
            "the output is: 25\n"
          ]
        }
      ]
    },
    {
      "cell_type": "markdown",
      "source": [
        "# Modulus"
      ],
      "metadata": {
        "id": "fcgimleSGV4J"
      }
    },
    {
      "cell_type": "code",
      "source": [
        "a = 50\n",
        "b = 2\n",
        "z = a % b\n",
        "print('the output is:',z)"
      ],
      "metadata": {
        "colab": {
          "base_uri": "https://localhost:8080/"
        },
        "id": "1OqhtZzdGB6_",
        "outputId": "949d2ed4-f250-419e-ca96-76461cd07e5b"
      },
      "execution_count": 8,
      "outputs": [
        {
          "output_type": "stream",
          "name": "stdout",
          "text": [
            "the output is: 0\n"
          ]
        }
      ]
    },
    {
      "cell_type": "code",
      "source": [],
      "metadata": {
        "id": "mH3svzySGEYq"
      },
      "execution_count": null,
      "outputs": []
    },
    {
      "cell_type": "markdown",
      "source": [
        "# Exponential"
      ],
      "metadata": {
        "id": "S_X4qNbVHFqU"
      }
    },
    {
      "cell_type": "code",
      "source": [
        "a = 3\n",
        "b = 3\n",
        "z = a ** b\n",
        "print('the exponential value is:',z)"
      ],
      "metadata": {
        "colab": {
          "base_uri": "https://localhost:8080/"
        },
        "id": "NwOCs5wPHG8V",
        "outputId": "5c8f54a4-1f79-4a91-ef93-8b9719574b78"
      },
      "execution_count": 9,
      "outputs": [
        {
          "output_type": "stream",
          "name": "stdout",
          "text": [
            "the exponential value is: 27\n"
          ]
        }
      ]
    },
    {
      "cell_type": "code",
      "source": [],
      "metadata": {
        "id": "N5hvbmZhHTSv"
      },
      "execution_count": null,
      "outputs": []
    }
  ]
}